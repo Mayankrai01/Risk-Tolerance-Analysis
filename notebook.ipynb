{
 "cells": [
  {
   "cell_type": "code",
   "execution_count": null,
   "metadata": {},
   "outputs": [],
   "source": [
    "import google.generativeai as genai\n",
    "from crewai_tools import JSONSearchTool\n",
    "import openai\n",
    "import os\n",
    "from llm import llm\n",
    "from json_writer import JSONWriterTool\n",
    "\n",
    "openai.api_key = os.getenv(\"OPENAI_API_KEY\")\n",
    "genai.configure(api_key=os.getenv(\"google_ai_api_key\"))"
   ]
  },
  {
   "cell_type": "code",
   "execution_count": 2,
   "metadata": {},
   "outputs": [],
   "source": [
    "financial_data_tool = JSONSearchTool(json_path='userForm.json',\n",
    "                                     config={\n",
    "                                         \"embedder\": {\n",
    "                                             \"provider\": \"google\",\n",
    "                                             \"config\": {\n",
    "                                                 \"model\": \"models/embedding-001\",\n",
    "                                                 \"task_type\": \"retrieval_document\"\n",
    "                                             },\n",
    "                                         }\n",
    "                                     })\n",
    "\n",
    "json_writer_tool = JSONWriterTool(\n",
    "    json_path='updatedUserForm.json',\n",
    "    config={\n",
    "        \"writer\": {\n",
    "            \"provider\": \"local\",\n",
    "            \"config\": {\n",
    "                \"write_mode\": \"overwrite\",\n",
    "                \"format\": \"json\",\n",
    "                \"indent\": 4\n",
    "            }\n",
    "        }\n",
    "    }\n",
    ")\n"
   ]
  },
  {
   "cell_type": "markdown",
   "metadata": {},
   "source": [
    "Agents"
   ]
  },
  {
   "cell_type": "code",
   "execution_count": 6,
   "metadata": {},
   "outputs": [],
   "source": [
    "from crewai import Agent"
   ]
  },
  {
   "cell_type": "code",
   "execution_count": 7,
   "metadata": {},
   "outputs": [],
   "source": [
    "# agent to read json file\n",
    "\n",
    "read_json_agent = Agent(\n",
    "    role='Read JSON Input Agent',\n",
    "    goal='Read the JSON file for information on demographics, financials, risk tolerance, and investment preferences.',\n",
    "    # verbose=True,\n",
    "    memory=True,\n",
    "    backstory=(\n",
    "        \"Expert in extracting information from json input\"\n",
    "    ),\n",
    "    tools=[financial_data_tool],\n",
    "    allow_delegation=True,\n",
    "    llm=llm\n",
    ")"
   ]
  },
  {
   "cell_type": "code",
   "execution_count": 8,
   "metadata": {},
   "outputs": [],
   "source": [
    "# agent to assess financial goals\n",
    "\n",
    "financial_goals_assement_agent = Agent(\n",
    "    role='Get information on financial goals Agent',\n",
    "    goal=\"\"\"Read the JSON file for information on financial goals and provide an updated analysis on how it affects risk tolerance. \n",
    "            Use this information to reassess the user's risk tolerance based on: Current income, investments, and debt levels,Investment goals \n",
    "            and preferences, Existing tolerance levels and target values.\"\"\",\n",
    "    # verbose=True,\n",
    "    memory=True,\n",
    "    backstory=(\n",
    "        \"Expert in extracting information related to financial goals from the data\"\n",
    "    ),\n",
    "    # tools=[financial_data_tool],\n",
    "    allow_delegation=True,\n",
    "    llm=llm\n",
    ")\n"
   ]
  },
  {
   "cell_type": "code",
   "execution_count": 9,
   "metadata": {},
   "outputs": [],
   "source": [
    "# Create a investment strategy agent\n",
    "\n",
    "investment_strategy_agent = Agent(\n",
    "    role='Investment strategy Agent',\n",
    "    goal=\"\"\"Analyze financial data to assess investment strategy and provide an updated analysis on how it affects risk tolerance.\n",
    "            Use this information to reassess the user's risk tolerance based on: Current income, investments, and debt levels, Investment goals\n",
    "            and preferences, Existing tolerance levels and target values.\"\"\",\n",
    "    # verbose=True,\n",
    "    memory=True,\n",
    "    backstory=(\n",
    "        \"Expert in extracting information related to investment strategy from the data\"\n",
    "    ),\n",
    "    # tools=[financial_data_tool],\n",
    "    allow_delegation=True,\n",
    "    llm=llm\n",
    ")\n",
    "\n"
   ]
  },
  {
   "cell_type": "code",
   "execution_count": 10,
   "metadata": {},
   "outputs": [],
   "source": [
    "# Create a portfolio structure agent\n",
    "\n",
    "portfolio_structure_agent = Agent(\n",
    "    role='Portfolio structure Agent',\n",
    "    goal=\"\"\"Analyze financial data to assess portfolio structure and provide an updated analysis on how it affects risk tolerance.'\n",
    "            Use this information to reassess the user's risk tolerance based on: Current income, investments, and debt levels, Investment goals\n",
    "            and preferences, Existing tolerance levels and target values.\"\"\",\n",
    "    # verbose=True,\n",
    "    memory=True,\n",
    "    backstory=(\n",
    "        \"Expert in extracting information related to portfolio structure from the data\"\n",
    "    ),\n",
    "    # tools=[financial_data_tool],\n",
    "    allow_delegation=True,\n",
    "    llm=llm\n",
    ")\n"
   ]
  },
  {
   "cell_type": "code",
   "execution_count": 11,
   "metadata": {},
   "outputs": [],
   "source": [
    "# agents to compile information from all other agents\n",
    "final_compilation_agent = Agent(\n",
    "    role='Final Compilation Agent',\n",
    "    goal='Compile findings from all agents and update the risk tolerance values in a new JSON file.',\n",
    "    # verbose=True,\n",
    "    memory=True,\n",
    "    backstory=(\n",
    "        \"Expert in compiling data from various sources and updating the risk tolerance values based on analysis.\"\n",
    "    ),\n",
    "    # tools=[financial_data_tool, json_writer_tool],\n",
    "    allow_delegation=False,\n",
    "    llm=llm\n",
    ")"
   ]
  },
  {
   "cell_type": "markdown",
   "metadata": {},
   "source": [
    "Tasks"
   ]
  },
  {
   "cell_type": "code",
   "execution_count": 12,
   "metadata": {},
   "outputs": [],
   "source": [
    "from crewai import Task"
   ]
  },
  {
   "cell_type": "code",
   "execution_count": 13,
   "metadata": {},
   "outputs": [],
   "source": [
    "# Risk Assessment Task\n",
    "read_json_task = Task(\n",
    "    description=(\n",
    "        \"Analyze the input file and provide the information on demographics, financials, risk tolerance, and investment preferences.\"\n",
    "    ),\n",
    "    expected_output='The information on demographics, financials, risk tolerance, and investment preferences.',\n",
    "    tools=[financial_data_tool],\n",
    "    agent=read_json_agent,\n",
    "    llm=llm\n",
    ")\n",
    "\n",
    "financial_goals_assessment_task = Task(\n",
    "    description=(\n",
    "        \"Extract the financial goals information from the input file and analyze the financial goals data.\"\n",
    "    ),\n",
    "    expected_output='The information and analysis of the financial goals.',\n",
    "    # tools=[financial_data_tool],\n",
    "    agent=financial_goals_assement_agent,\n",
    "    llm=llm\n",
    ")\n",
    "\n",
    "investment_strategy_task = Task(\n",
    "    description=(\n",
    "        \"Analyze the financial data to assess the client’s risk tolerance and provide an investment strategy based on the provided information.\"\n",
    "    ),\n",
    "    expected_output='The analysis of risk tolerance and a proposed investment strategy.',\n",
    "    # tools=[financial_data_tool],\n",
    "    agent=investment_strategy_agent,\n",
    "    llm=llm\n",
    ")\n",
    "portfolio_structure_task = Task(\n",
    "    description=(\n",
    "        \"Analyze the financial data to design a portfolio structure that matches the client’s risk tolerance and financial goals.\"\n",
    "    ),\n",
    "    expected_output='A detailed portfolio structure based on the client’s financial data.',\n",
    "    # tools=[financial_data_tool],\n",
    "    agent=portfolio_structure_agent,\n",
    "    llm=llm\n",
    ")\n",
    "\n",
    "final_compilation_task = Task(\n",
    "    description=(\n",
    "        \"Gather findings from the read_json_agent, financial_goals_assessment_agent, \"\n",
    "        \"investment_strategy_agent, and portfolio_structure_agent. Compile the data, update the user's risk tolerance values \"\n",
    "        \"to reflect changes in their financial situation or risk parameters, and write a new JSON file.\"\n",
    "    ),\n",
    "    expected_output=\"A new JSON file with updated risk tolerance values based on the client's current financial situation and risk preferences.\",\n",
    "    # tools=[financial_data_tool,json_writer_tool],\n",
    "    agent=final_compilation_agent,\n",
    "    llm=llm\n",
    ")"
   ]
  },
  {
   "cell_type": "markdown",
   "metadata": {},
   "source": [
    "Running the agents"
   ]
  },
  {
   "cell_type": "code",
   "execution_count": 14,
   "metadata": {},
   "outputs": [],
   "source": [
    "from crewai import Crew, Process"
   ]
  },
  {
   "cell_type": "code",
   "execution_count": null,
   "metadata": {},
   "outputs": [],
   "source": [
    "crew = Crew(\n",
    "    # agents=[read_json_agent],\n",
    "    agents=[read_json_agent, financial_goals_assement_agent,\n",
    "            investment_strategy_agent, portfolio_structure_agent, final_compilation_agent],\n",
    "    manager_llm=llm,\n",
    "    planning_llm=llm,\n",
    "    # tasks=[read_json_task],\n",
    "    tasks=[read_json_task, financial_goals_assessment_task,\n",
    "           investment_strategy_task, portfolio_structure_task, final_compilation_task],\n",
    "    process=Process.sequential,\n",
    "    verbose=True,\n",
    "    memory=True,\n",
    "    embedder={\n",
    "        \"provider\": \"google\",\n",
    "        \"config\": {\n",
    "            \"model\": 'models/embedding-001',\n",
    "            \"task_type\": \"retrieval_document\",\n",
    "            \"title\": \"Embeddings for Embedchain\"\n",
    "        }\n",
    "    },\n",
    "    cache=True,\n",
    "    max_rpm=100,\n",
    "    share_crew=True,\n",
    "    output_log_file='crew_execution.log'\n",
    ")\n"
   ]
  },
  {
   "cell_type": "code",
   "execution_count": null,
   "metadata": {},
   "outputs": [],
   "source": [
    "# Start the task execution process\n",
    "result = crew.kickoff()"
   ]
  },
  {
   "cell_type": "code",
   "execution_count": null,
   "metadata": {},
   "outputs": [],
   "source": [
    "print(result.raw)"
   ]
  },
  {
   "cell_type": "code",
   "execution_count": 24,
   "metadata": {},
   "outputs": [],
   "source": [
    "import re\n",
    "\n",
    "\n",
    "def extract_json(text):\n",
    "    # Use regular expression to extract the JSON part\n",
    "    json_match = re.search(r'\\{.*\\}', text, re.DOTALL)\n",
    "    if json_match:\n",
    "        return json_match.group(0)\n",
    "    else:\n",
    "        return None"
   ]
  },
  {
   "cell_type": "code",
   "execution_count": null,
   "metadata": {},
   "outputs": [],
   "source": [
    "json_data = extract_json(result.raw)\n",
    "\n",
    "if json_data: print(json_data) \n",
    "else: print(\"No JSON found\")"
   ]
  },
  {
   "cell_type": "code",
   "execution_count": 27,
   "metadata": {},
   "outputs": [],
   "source": [
    "final_data = extract_json(result.raw)\n",
    "\n",
    "with open(\"data.json\", \"w\") as file:\n",
    "    file.write(str(final_data))"
   ]
  },
  {
   "cell_type": "code",
   "execution_count": 2,
   "metadata": {},
   "outputs": [
    {
     "data": {
      "text/plain": [
       "True"
      ]
     },
     "execution_count": 2,
     "metadata": {},
     "output_type": "execute_result"
    }
   ],
   "source": [
    "import os\n",
    "from dotenv import load_dotenv\n",
    "load_dotenv()"
   ]
  },
  {
   "cell_type": "code",
   "execution_count": null,
   "metadata": {},
   "outputs": [],
   "source": []
  }
 ],
 "metadata": {
  "kernelspec": {
   "display_name": ".venv",
   "language": "python",
   "name": "python3"
  },
  "language_info": {
   "codemirror_mode": {
    "name": "ipython",
    "version": 3
   },
   "file_extension": ".py",
   "mimetype": "text/x-python",
   "name": "python",
   "nbconvert_exporter": "python",
   "pygments_lexer": "ipython3",
   "version": "3.11.9"
  }
 },
 "nbformat": 4,
 "nbformat_minor": 2
}
